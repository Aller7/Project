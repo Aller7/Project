{
 "cells": [
  {
   "cell_type": "markdown",
   "id": "7e124cf3",
   "metadata": {},
   "source": [
    "<h4>1. Загрузим данные из файла data.csv и подгрузим нужные библиотеки<h4>"
   ]
  },
  {
   "cell_type": "code",
   "execution_count": 213,
   "id": "82e87e69",
   "metadata": {},
   "outputs": [],
   "source": [
    "import pandas as pd\n",
    "import numpy as np\n",
    "import seaborn as sns\n",
    "import plotly.express as px\n",
    "import matplotlib.pyplot as plt\n",
    "import plotly.graph_objects as go\n",
    "from plotly.subplots import make_subplots\n",
    "import scipy.stats"
   ]
  },
  {
   "cell_type": "code",
   "execution_count": 257,
   "id": "0e51bda7",
   "metadata": {},
   "outputs": [],
   "source": [
    "df = pd.read_csv('/Users/aller/Downloads/data.csv') "
   ]
  },
  {
   "cell_type": "markdown",
   "id": "fa47108b",
   "metadata": {},
   "source": [
    "<h4>2. Проверим типы данных, выведем описательные статистики<h4>"
   ]
  },
  {
   "cell_type": "code",
   "execution_count": 210,
   "id": "d080b8e6",
   "metadata": {},
   "outputs": [
    {
     "data": {
      "text/plain": [
       "Unnamed: 0               int64\n",
       "last_price               int64\n",
       "total_area             float64\n",
       "rooms                    int64\n",
       "ceiling_height         float64\n",
       "floors_total             int64\n",
       "living_area            float64\n",
       "floor                    int64\n",
       "kitchen_area           float64\n",
       "cityCenters_nearest    float64\n",
       "days_exposition          int64\n",
       "dtype: object"
      ]
     },
     "execution_count": 210,
     "metadata": {},
     "output_type": "execute_result"
    }
   ],
   "source": [
    "df.dtypes"
   ]
  },
  {
   "cell_type": "code",
   "execution_count": 221,
   "id": "e49e123b",
   "metadata": {},
   "outputs": [
    {
     "data": {
      "text/html": [
       "<div>\n",
       "<style scoped>\n",
       "    .dataframe tbody tr th:only-of-type {\n",
       "        vertical-align: middle;\n",
       "    }\n",
       "\n",
       "    .dataframe tbody tr th {\n",
       "        vertical-align: top;\n",
       "    }\n",
       "\n",
       "    .dataframe thead th {\n",
       "        text-align: right;\n",
       "    }\n",
       "</style>\n",
       "<table border=\"1\" class=\"dataframe\">\n",
       "  <thead>\n",
       "    <tr style=\"text-align: right;\">\n",
       "      <th></th>\n",
       "      <th>Unnamed: 0</th>\n",
       "      <th>last_price</th>\n",
       "      <th>total_area</th>\n",
       "      <th>rooms</th>\n",
       "      <th>ceiling_height</th>\n",
       "      <th>floors_total</th>\n",
       "      <th>living_area</th>\n",
       "      <th>floor</th>\n",
       "      <th>kitchen_area</th>\n",
       "      <th>cityCenters_nearest</th>\n",
       "      <th>days_exposition</th>\n",
       "    </tr>\n",
       "  </thead>\n",
       "  <tbody>\n",
       "    <tr>\n",
       "      <th>count</th>\n",
       "      <td>15591.000000</td>\n",
       "      <td>1.559100e+04</td>\n",
       "      <td>15591.000000</td>\n",
       "      <td>15591.000000</td>\n",
       "      <td>15591.000000</td>\n",
       "      <td>15591.000000</td>\n",
       "      <td>15591.000000</td>\n",
       "      <td>15591.000000</td>\n",
       "      <td>15591.000000</td>\n",
       "      <td>15591.000000</td>\n",
       "      <td>15591.000000</td>\n",
       "    </tr>\n",
       "    <tr>\n",
       "      <th>mean</th>\n",
       "      <td>11837.412546</td>\n",
       "      <td>8.034843e+06</td>\n",
       "      <td>64.650808</td>\n",
       "      <td>2.171766</td>\n",
       "      <td>2.766604</td>\n",
       "      <td>11.399654</td>\n",
       "      <td>36.946452</td>\n",
       "      <td>6.224681</td>\n",
       "      <td>12.532397</td>\n",
       "      <td>11588.493939</td>\n",
       "      <td>171.294016</td>\n",
       "    </tr>\n",
       "    <tr>\n",
       "      <th>std</th>\n",
       "      <td>6810.990942</td>\n",
       "      <td>1.299270e+07</td>\n",
       "      <td>40.230594</td>\n",
       "      <td>1.147103</td>\n",
       "      <td>1.045077</td>\n",
       "      <td>6.373357</td>\n",
       "      <td>24.973365</td>\n",
       "      <td>4.887168</td>\n",
       "      <td>10.167745</td>\n",
       "      <td>4832.354845</td>\n",
       "      <td>211.557615</td>\n",
       "    </tr>\n",
       "    <tr>\n",
       "      <th>min</th>\n",
       "      <td>0.000000</td>\n",
       "      <td>1.219000e+04</td>\n",
       "      <td>12.000000</td>\n",
       "      <td>0.000000</td>\n",
       "      <td>1.000000</td>\n",
       "      <td>1.000000</td>\n",
       "      <td>2.000000</td>\n",
       "      <td>1.000000</td>\n",
       "      <td>0.000000</td>\n",
       "      <td>181.000000</td>\n",
       "      <td>1.000000</td>\n",
       "    </tr>\n",
       "    <tr>\n",
       "      <th>25%</th>\n",
       "      <td>5922.000000</td>\n",
       "      <td>4.200000e+06</td>\n",
       "      <td>42.000000</td>\n",
       "      <td>1.000000</td>\n",
       "      <td>2.600000</td>\n",
       "      <td>5.000000</td>\n",
       "      <td>20.000000</td>\n",
       "      <td>3.000000</td>\n",
       "      <td>7.500000</td>\n",
       "      <td>8322.000000</td>\n",
       "      <td>47.000000</td>\n",
       "    </tr>\n",
       "    <tr>\n",
       "      <th>50%</th>\n",
       "      <td>11844.000000</td>\n",
       "      <td>5.500000e+06</td>\n",
       "      <td>55.000000</td>\n",
       "      <td>2.000000</td>\n",
       "      <td>2.700000</td>\n",
       "      <td>9.000000</td>\n",
       "      <td>31.040000</td>\n",
       "      <td>5.000000</td>\n",
       "      <td>10.000000</td>\n",
       "      <td>12242.000000</td>\n",
       "      <td>95.000000</td>\n",
       "    </tr>\n",
       "    <tr>\n",
       "      <th>75%</th>\n",
       "      <td>17671.500000</td>\n",
       "      <td>8.100000e+06</td>\n",
       "      <td>74.500000</td>\n",
       "      <td>3.000000</td>\n",
       "      <td>2.750000</td>\n",
       "      <td>16.000000</td>\n",
       "      <td>44.000000</td>\n",
       "      <td>8.000000</td>\n",
       "      <td>13.900000</td>\n",
       "      <td>14938.500000</td>\n",
       "      <td>200.000000</td>\n",
       "    </tr>\n",
       "    <tr>\n",
       "      <th>max</th>\n",
       "      <td>23697.000000</td>\n",
       "      <td>7.630000e+08</td>\n",
       "      <td>900.000000</td>\n",
       "      <td>19.000000</td>\n",
       "      <td>100.000000</td>\n",
       "      <td>52.000000</td>\n",
       "      <td>409.700000</td>\n",
       "      <td>33.000000</td>\n",
       "      <td>234.829828</td>\n",
       "      <td>29493.000000</td>\n",
       "      <td>1572.000000</td>\n",
       "    </tr>\n",
       "  </tbody>\n",
       "</table>\n",
       "</div>"
      ],
      "text/plain": [
       "         Unnamed: 0    last_price    total_area         rooms  ceiling_height  \\\n",
       "count  15591.000000  1.559100e+04  15591.000000  15591.000000    15591.000000   \n",
       "mean   11837.412546  8.034843e+06     64.650808      2.171766        2.766604   \n",
       "std     6810.990942  1.299270e+07     40.230594      1.147103        1.045077   \n",
       "min        0.000000  1.219000e+04     12.000000      0.000000        1.000000   \n",
       "25%     5922.000000  4.200000e+06     42.000000      1.000000        2.600000   \n",
       "50%    11844.000000  5.500000e+06     55.000000      2.000000        2.700000   \n",
       "75%    17671.500000  8.100000e+06     74.500000      3.000000        2.750000   \n",
       "max    23697.000000  7.630000e+08    900.000000     19.000000      100.000000   \n",
       "\n",
       "       floors_total   living_area         floor  kitchen_area  \\\n",
       "count  15591.000000  15591.000000  15591.000000  15591.000000   \n",
       "mean      11.399654     36.946452      6.224681     12.532397   \n",
       "std        6.373357     24.973365      4.887168     10.167745   \n",
       "min        1.000000      2.000000      1.000000      0.000000   \n",
       "25%        5.000000     20.000000      3.000000      7.500000   \n",
       "50%        9.000000     31.040000      5.000000     10.000000   \n",
       "75%       16.000000     44.000000      8.000000     13.900000   \n",
       "max       52.000000    409.700000     33.000000    234.829828   \n",
       "\n",
       "       cityCenters_nearest  days_exposition  \n",
       "count         15591.000000     15591.000000  \n",
       "mean          11588.493939       171.294016  \n",
       "std            4832.354845       211.557615  \n",
       "min             181.000000         1.000000  \n",
       "25%            8322.000000        47.000000  \n",
       "50%           12242.000000        95.000000  \n",
       "75%           14938.500000       200.000000  \n",
       "max           29493.000000      1572.000000  "
      ]
     },
     "execution_count": 221,
     "metadata": {},
     "output_type": "execute_result"
    }
   ],
   "source": [
    "df.describe()"
   ]
  },
  {
   "cell_type": "markdown",
   "id": "00eb6805",
   "metadata": {},
   "source": [
    "<h4>3. Создадим 2 функции:\n",
    "    <ul>\n",
    "    <li>persentile(df, column) - убирает выбросы данных</li>\n",
    "    <li>plots(column, scale) - выводит графики (boxplot и histplot) до и после удаления выбросов</li></ul><h4> "
   ]
  },
  {
   "cell_type": "code",
   "execution_count": 277,
   "id": "c50aac2f",
   "metadata": {
    "scrolled": true
   },
   "outputs": [],
   "source": [
    "#убираем выбросы\n",
    "def persentile(df, column):\n",
    "        data = df.copy()\n",
    "        q1 = data[column].quantile(q = 0.25)\n",
    "        q3 = data[column].quantile(q = 0.75)\n",
    "        iqr = q3 - q1\n",
    "        left_boarder = q1 - 1.5 * iqr\n",
    "        rigth_boarder = q3 + 1.5 * iqr\n",
    "        return f'({left_boarder} <= {column} <= {rigth_boarder})'\n",
    "cond = \"and\".join([persentile(df, i) for i in['last_price', 'total_area', 'rooms', 'floors_total', 'ceiling_height', 'living_area', 'floor', \n",
    "          'kitchen_area', 'cityCenters_nearest', 'days_exposition']])\n",
    "upd_df = df.query(cond).copy()"
   ]
  },
  {
   "cell_type": "code",
   "execution_count": 101,
   "id": "c94d8b99",
   "metadata": {},
   "outputs": [],
   "source": [
    "#вывод графиков(boxplot и histplot) до и после удаления выбросов\n",
    "def plots(column, scale):\n",
    "        sns.set(\n",
    "                font_scale = 1,\n",
    "                style = 'whitegrid',\n",
    "                rc = {'figure.figsize':(15,5)})\n",
    "        plt.subplot (2, 2, 1)\n",
    "        sns.boxplot(x = (df[column]/scale)).set_title(f'{column} с выбросами')\n",
    "        plt.subplot (2, 2, 3)\n",
    "        sns.histplot(df[column]/scale, kde=True, linewidth=0)\n",
    "        plt.subplot (2, 2, 2)\n",
    "        sns.boxplot(x = (upd_df[column]/scale)).set_title(f'{column} без выбросов')\n",
    "        plt.subplot (2, 2, 4)\n",
    "        sns.histplot(upd_df[column]/scale, kde=True, linewidth=0)"
   ]
  },
  {
   "cell_type": "markdown",
   "id": "23d6d1f2",
   "metadata": {},
   "source": [
    "<h4>Выведем получившиеся графики. После удаления выбросов распределение данных изменилось.<h4>"
   ]
  },
  {
   "cell_type": "code",
   "execution_count": 104,
   "id": "66549677",
   "metadata": {},
   "outputs": [
    {
     "data": {
      "image/png": "[encoded data removed]",
      "text/plain": [
       "<Figure size 1080x360 with 4 Axes>"
      ]
     },
     "metadata": {},
     "output_type": "display_data"
    }
   ],
   "source": [
    "plots('last_price', 100000)"
   ]
  },
  {
   "cell_type": "code",
   "execution_count": 105,
   "id": "8fa2d3ca",
   "metadata": {},
   "outputs": [
    {
     "data": {
      "image/png": "[encoded data removed]",
      "text/plain": [
       "<Figure size 1080x360 with 4 Axes>"
      ]
     },
     "metadata": {},
     "output_type": "display_data"
    }
   ],
   "source": [
    "plots('total_area', 1)"
   ]
  },
  {
   "cell_type": "code",
   "execution_count": 106,
   "id": "198ecf63",
   "metadata": {},
   "outputs": [
    {
     "data": {
      "image/png": "[encoded data removed]",
      "text/plain": [
       "<Figure size 1080x360 with 4 Axes>"
      ]
     },
     "metadata": {},
     "output_type": "display_data"
    }
   ],
   "source": [
    "plots('rooms', 1)"
   ]
  },
  {
   "cell_type": "code",
   "execution_count": 109,
   "id": "23552bab",
   "metadata": {},
   "outputs": [
    {
     "data": {
      "image/png": "[encoded data removed]",
      "text/plain": [
       "<Figure size 1080x360 with 4 Axes>"
      ]
     },
     "metadata": {},
     "output_type": "display_data"
    }
   ],
   "source": [
    "plots('ceiling_height', 1)"
   ]
  },
  {
   "cell_type": "code",
   "execution_count": 112,
   "id": "94454d44",
   "metadata": {},
   "outputs": [
    {
     "data": {
      "image/png": "[encoded data removed]",
      "text/plain": [
       "<Figure size 1080x360 with 4 Axes>"
      ]
     },
     "metadata": {},
     "output_type": "display_data"
    }
   ],
   "source": [
    "plots('living_area', 1)"
   ]
  },
  {
   "cell_type": "code",
   "execution_count": 111,
   "id": "9be1fe8d",
   "metadata": {},
   "outputs": [
    {
     "data": {
      "image/png": "[encoded data removed]",
      "text/plain": [
       "<Figure size 1080x360 with 4 Axes>"
      ]
     },
     "metadata": {},
     "output_type": "display_data"
    }
   ],
   "source": [
    "plots('floors_total', 1)"
   ]
  },
  {
   "cell_type": "code",
   "execution_count": 113,
   "id": "34019b04",
   "metadata": {},
   "outputs": [
    {
     "data": {
      "image/png": "[encoded data removed]",
      "text/plain": [
       "<Figure size 1080x360 with 4 Axes>"
      ]
     },
     "metadata": {},
     "output_type": "display_data"
    }
   ],
   "source": [
    "plots('floor', 1)"
   ]
  },
  {
   "cell_type": "markdown",
   "id": "2eebf672",
   "metadata": {},
   "source": [
    "<h4>4. Добавим новые колонки: цену квадратного метра, соотношение жилой и общей площади, отношение площади кухни к общей площади.<h4>"
   ]
  },
  {
   "cell_type": "code",
   "execution_count": 279,
   "id": "ca61bf88",
   "metadata": {},
   "outputs": [],
   "source": [
    "#Добавляем колонки:\n",
    "#1.price_square_meter - цена квадратного метра;\n",
    "#2.living_area_% - соотношение жилой и общей площади;\n",
    "#3.kitchen_area_% - отношение площади кухни к общей площади.\n",
    "\n",
    "upd_df['price_square_meter'] = round(upd_df['last_price'] / upd_df['total_area'], 2)\n",
    "upd_df['living_area_%'] = round(upd_df['living_area'] / upd_df['total_area'], 2)\n",
    "upd_df['kitchen_area_%'] = round(upd_df['kitchen_area'] / upd_df['total_area'], 2)"
   ]
  },
  {
   "cell_type": "code",
   "execution_count": 115,
   "id": "78be41f3",
   "metadata": {},
   "outputs": [
    {
     "data": {
      "text/html": [
       "<div>\n",
       "<style scoped>\n",
       "    .dataframe tbody tr th:only-of-type {\n",
       "        vertical-align: middle;\n",
       "    }\n",
       "\n",
       "    .dataframe tbody tr th {\n",
       "        vertical-align: top;\n",
       "    }\n",
       "\n",
       "    .dataframe thead th {\n",
       "        text-align: right;\n",
       "    }\n",
       "</style>\n",
       "<table border=\"1\" class=\"dataframe\">\n",
       "  <thead>\n",
       "    <tr style=\"text-align: right;\">\n",
       "      <th></th>\n",
       "      <th>Unnamed: 0</th>\n",
       "      <th>last_price</th>\n",
       "      <th>total_area</th>\n",
       "      <th>rooms</th>\n",
       "      <th>ceiling_height</th>\n",
       "      <th>floors_total</th>\n",
       "      <th>living_area</th>\n",
       "      <th>floor</th>\n",
       "      <th>kitchen_area</th>\n",
       "      <th>cityCenters_nearest</th>\n",
       "      <th>days_exposition</th>\n",
       "      <th>price_square_meter</th>\n",
       "      <th>living_area_%</th>\n",
       "      <th>kitchen_area_%</th>\n",
       "    </tr>\n",
       "  </thead>\n",
       "  <tbody>\n",
       "    <tr>\n",
       "      <th>count</th>\n",
       "      <td>10009.000000</td>\n",
       "      <td>1.000900e+04</td>\n",
       "      <td>10009.000000</td>\n",
       "      <td>10009.000000</td>\n",
       "      <td>10009.000000</td>\n",
       "      <td>10009.000000</td>\n",
       "      <td>10009.000000</td>\n",
       "      <td>10009.000000</td>\n",
       "      <td>10009.000000</td>\n",
       "      <td>10009.000000</td>\n",
       "      <td>10009.000000</td>\n",
       "      <td>10009.000000</td>\n",
       "      <td>10009.000000</td>\n",
       "      <td>10009.000000</td>\n",
       "    </tr>\n",
       "    <tr>\n",
       "      <th>mean</th>\n",
       "      <td>11867.440204</td>\n",
       "      <td>5.446703e+06</td>\n",
       "      <td>52.343828</td>\n",
       "      <td>1.929164</td>\n",
       "      <td>2.648952</td>\n",
       "      <td>11.448696</td>\n",
       "      <td>30.176889</td>\n",
       "      <td>5.623439</td>\n",
       "      <td>9.608754</td>\n",
       "      <td>12654.006294</td>\n",
       "      <td>107.396044</td>\n",
       "      <td>105042.525937</td>\n",
       "      <td>0.568445</td>\n",
       "      <td>0.196480</td>\n",
       "    </tr>\n",
       "    <tr>\n",
       "      <th>std</th>\n",
       "      <td>6801.920574</td>\n",
       "      <td>2.143842e+06</td>\n",
       "      <td>17.817480</td>\n",
       "      <td>0.893554</td>\n",
       "      <td>0.097281</td>\n",
       "      <td>5.730229</td>\n",
       "      <td>12.474492</td>\n",
       "      <td>3.677547</td>\n",
       "      <td>3.643681</td>\n",
       "      <td>3979.582092</td>\n",
       "      <td>95.269402</td>\n",
       "      <td>22914.856188</td>\n",
       "      <td>0.096787</td>\n",
       "      <td>0.084579</td>\n",
       "    </tr>\n",
       "    <tr>\n",
       "      <th>min</th>\n",
       "      <td>9.000000</td>\n",
       "      <td>1.190000e+06</td>\n",
       "      <td>12.000000</td>\n",
       "      <td>0.000000</td>\n",
       "      <td>2.400000</td>\n",
       "      <td>1.000000</td>\n",
       "      <td>5.000000</td>\n",
       "      <td>1.000000</td>\n",
       "      <td>0.000000</td>\n",
       "      <td>399.000000</td>\n",
       "      <td>1.000000</td>\n",
       "      <td>15345.270000</td>\n",
       "      <td>0.070000</td>\n",
       "      <td>0.000000</td>\n",
       "    </tr>\n",
       "    <tr>\n",
       "      <th>25%</th>\n",
       "      <td>5953.000000</td>\n",
       "      <td>3.950000e+06</td>\n",
       "      <td>39.000000</td>\n",
       "      <td>1.000000</td>\n",
       "      <td>2.550000</td>\n",
       "      <td>7.000000</td>\n",
       "      <td>18.600000</td>\n",
       "      <td>3.000000</td>\n",
       "      <td>7.000000</td>\n",
       "      <td>10736.000000</td>\n",
       "      <td>38.000000</td>\n",
       "      <td>89500.860000</td>\n",
       "      <td>0.510000</td>\n",
       "      <td>0.140000</td>\n",
       "    </tr>\n",
       "    <tr>\n",
       "      <th>50%</th>\n",
       "      <td>11826.000000</td>\n",
       "      <td>4.880000e+06</td>\n",
       "      <td>48.000000</td>\n",
       "      <td>2.000000</td>\n",
       "      <td>2.700000</td>\n",
       "      <td>9.000000</td>\n",
       "      <td>29.000000</td>\n",
       "      <td>5.000000</td>\n",
       "      <td>8.800000</td>\n",
       "      <td>12998.000000</td>\n",
       "      <td>90.000000</td>\n",
       "      <td>101538.460000</td>\n",
       "      <td>0.570000</td>\n",
       "      <td>0.180000</td>\n",
       "    </tr>\n",
       "    <tr>\n",
       "      <th>75%</th>\n",
       "      <td>17688.000000</td>\n",
       "      <td>6.400000e+06</td>\n",
       "      <td>62.200000</td>\n",
       "      <td>3.000000</td>\n",
       "      <td>2.700000</td>\n",
       "      <td>16.000000</td>\n",
       "      <td>39.000000</td>\n",
       "      <td>8.000000</td>\n",
       "      <td>11.100000</td>\n",
       "      <td>15255.000000</td>\n",
       "      <td>141.000000</td>\n",
       "      <td>116613.420000</td>\n",
       "      <td>0.640000</td>\n",
       "      <td>0.240000</td>\n",
       "    </tr>\n",
       "    <tr>\n",
       "      <th>max</th>\n",
       "      <td>23690.000000</td>\n",
       "      <td>1.395000e+07</td>\n",
       "      <td>123.000000</td>\n",
       "      <td>6.000000</td>\n",
       "      <td>2.970000</td>\n",
       "      <td>28.000000</td>\n",
       "      <td>80.000000</td>\n",
       "      <td>15.000000</td>\n",
       "      <td>23.500000</td>\n",
       "      <td>24429.000000</td>\n",
       "      <td>429.000000</td>\n",
       "      <td>387096.770000</td>\n",
       "      <td>1.000000</td>\n",
       "      <td>0.770000</td>\n",
       "    </tr>\n",
       "  </tbody>\n",
       "</table>\n",
       "</div>"
      ],
      "text/plain": [
       "         Unnamed: 0    last_price    total_area         rooms  ceiling_height  \\\n",
       "count  10009.000000  1.000900e+04  10009.000000  10009.000000    10009.000000   \n",
       "mean   11867.440204  5.446703e+06     52.343828      1.929164        2.648952   \n",
       "std     6801.920574  2.143842e+06     17.817480      0.893554        0.097281   \n",
       "min        9.000000  1.190000e+06     12.000000      0.000000        2.400000   \n",
       "25%     5953.000000  3.950000e+06     39.000000      1.000000        2.550000   \n",
       "50%    11826.000000  4.880000e+06     48.000000      2.000000        2.700000   \n",
       "75%    17688.000000  6.400000e+06     62.200000      3.000000        2.700000   \n",
       "max    23690.000000  1.395000e+07    123.000000      6.000000        2.970000   \n",
       "\n",
       "       floors_total   living_area         floor  kitchen_area  \\\n",
       "count  10009.000000  10009.000000  10009.000000  10009.000000   \n",
       "mean      11.448696     30.176889      5.623439      9.608754   \n",
       "std        5.730229     12.474492      3.677547      3.643681   \n",
       "min        1.000000      5.000000      1.000000      0.000000   \n",
       "25%        7.000000     18.600000      3.000000      7.000000   \n",
       "50%        9.000000     29.000000      5.000000      8.800000   \n",
       "75%       16.000000     39.000000      8.000000     11.100000   \n",
       "max       28.000000     80.000000     15.000000     23.500000   \n",
       "\n",
       "       cityCenters_nearest  days_exposition  price_square_meter  \\\n",
       "count         10009.000000     10009.000000        10009.000000   \n",
       "mean          12654.006294       107.396044       105042.525937   \n",
       "std            3979.582092        95.269402        22914.856188   \n",
       "min             399.000000         1.000000        15345.270000   \n",
       "25%           10736.000000        38.000000        89500.860000   \n",
       "50%           12998.000000        90.000000       101538.460000   \n",
       "75%           15255.000000       141.000000       116613.420000   \n",
       "max           24429.000000       429.000000       387096.770000   \n",
       "\n",
       "       living_area_%  kitchen_area_%  \n",
       "count   10009.000000    10009.000000  \n",
       "mean        0.568445        0.196480  \n",
       "std         0.096787        0.084579  \n",
       "min         0.070000        0.000000  \n",
       "25%         0.510000        0.140000  \n",
       "50%         0.570000        0.180000  \n",
       "75%         0.640000        0.240000  \n",
       "max         1.000000        0.770000  "
      ]
     },
     "execution_count": 115,
     "metadata": {},
     "output_type": "execute_result"
    }
   ],
   "source": [
    "upd_df.describe()"
   ]
  },
  {
   "cell_type": "markdown",
   "id": "470e6078",
   "metadata": {},
   "source": [
    "<blockquote>В среднем продажа квартиры занимает 107 дней. Медиана срока продажи меньше, всего 90 дней. </blockquote>"
   ]
  },
  {
   "cell_type": "code",
   "execution_count": 282,
   "id": "e32a8392",
   "metadata": {},
   "outputs": [
    {
     "data": {
      "text/plain": [
       "count    10009.000000\n",
       "mean       107.396044\n",
       "std         95.269402\n",
       "min          1.000000\n",
       "25%         38.000000\n",
       "50%         90.000000\n",
       "75%        141.000000\n",
       "max        429.000000\n",
       "Name: days_exposition, dtype: float64"
      ]
     },
     "execution_count": 282,
     "metadata": {},
     "output_type": "execute_result"
    }
   ],
   "source": [
    "upd_df.days_exposition.describe()"
   ]
  },
  {
   "cell_type": "markdown",
   "id": "1b2bd9e9",
   "metadata": {},
   "source": [
    "<blockquote> Когда можно считать, что продажи прошли очень быстро, а когда необычно долго? </blockquote>\n",
    "\n",
    "Будем считать, что продажи шли очень долго, если days_exposition > q = 0.75 (то есть медленнее, чем у 75% квартир выборки)\n",
    "и очень быстро, если days_exposition < q = 0.25 (быстрее, чем у 75% квартир выборки).\n",
    "\n",
    "Особенности квартир, которые продавались быстро: <ul>\n",
    " <li>Средняя площадь - 50 кв.м., медианная - 46 кв.м.\n",
    " <li>В среднем 2 комнаты\n",
    " <li>Высота потолка - 2.7</ul>"
   ]
  },
  {
   "cell_type": "markdown",
   "id": "b8bbf8d7",
   "metadata": {},
   "source": [
    "q1 = upd_df['days_exposition'].quantile(q = 0.25)\n",
    "q3 = upd_df['days_exposition'].quantile(q = 0.75)\n",
    "\n",
    "fast_sail = upd_df.query(f'days_exposition < {q1}')\n",
    "long_sail = upd_df.query(f'days_exposition > {q3}')"
   ]
  },
  {
   "cell_type": "code",
   "execution_count": 132,
   "id": "738faff9",
   "metadata": {},
   "outputs": [
    {
     "data": {
      "text/html": [
       "<div>\n",
       "<style scoped>\n",
       "    .dataframe tbody tr th:only-of-type {\n",
       "        vertical-align: middle;\n",
       "    }\n",
       "\n",
       "    .dataframe tbody tr th {\n",
       "        vertical-align: top;\n",
       "    }\n",
       "\n",
       "    .dataframe thead th {\n",
       "        text-align: right;\n",
       "    }\n",
       "</style>\n",
       "<table border=\"1\" class=\"dataframe\">\n",
       "  <thead>\n",
       "    <tr style=\"text-align: right;\">\n",
       "      <th></th>\n",
       "      <th>Unnamed: 0</th>\n",
       "      <th>last_price</th>\n",
       "      <th>total_area</th>\n",
       "      <th>rooms</th>\n",
       "      <th>ceiling_height</th>\n",
       "      <th>floors_total</th>\n",
       "      <th>living_area</th>\n",
       "      <th>floor</th>\n",
       "      <th>kitchen_area</th>\n",
       "      <th>cityCenters_nearest</th>\n",
       "      <th>days_exposition</th>\n",
       "      <th>price_square_meter</th>\n",
       "      <th>living_area_%</th>\n",
       "      <th>kitchen_area_%</th>\n",
       "    </tr>\n",
       "  </thead>\n",
       "  <tbody>\n",
       "    <tr>\n",
       "      <th>count</th>\n",
       "      <td>2482.000000</td>\n",
       "      <td>2.482000e+03</td>\n",
       "      <td>2482.000000</td>\n",
       "      <td>2482.000000</td>\n",
       "      <td>2482.000000</td>\n",
       "      <td>2482.000000</td>\n",
       "      <td>2482.000000</td>\n",
       "      <td>2482.000000</td>\n",
       "      <td>2482.000000</td>\n",
       "      <td>2482.000000</td>\n",
       "      <td>2482.000000</td>\n",
       "      <td>2482.000000</td>\n",
       "      <td>2482.000000</td>\n",
       "      <td>2482.000000</td>\n",
       "    </tr>\n",
       "    <tr>\n",
       "      <th>mean</th>\n",
       "      <td>11816.397260</td>\n",
       "      <td>5.102817e+06</td>\n",
       "      <td>49.456277</td>\n",
       "      <td>1.831587</td>\n",
       "      <td>2.646543</td>\n",
       "      <td>11.202256</td>\n",
       "      <td>28.368280</td>\n",
       "      <td>5.727639</td>\n",
       "      <td>9.097553</td>\n",
       "      <td>12711.775181</td>\n",
       "      <td>18.388799</td>\n",
       "      <td>104307.598985</td>\n",
       "      <td>0.566962</td>\n",
       "      <td>0.195629</td>\n",
       "    </tr>\n",
       "    <tr>\n",
       "      <th>std</th>\n",
       "      <td>6780.344389</td>\n",
       "      <td>1.903970e+06</td>\n",
       "      <td>16.168311</td>\n",
       "      <td>0.863428</td>\n",
       "      <td>0.098077</td>\n",
       "      <td>5.524504</td>\n",
       "      <td>11.331059</td>\n",
       "      <td>3.640754</td>\n",
       "      <td>3.322722</td>\n",
       "      <td>3875.709114</td>\n",
       "      <td>10.103451</td>\n",
       "      <td>22245.568036</td>\n",
       "      <td>0.094675</td>\n",
       "      <td>0.078290</td>\n",
       "    </tr>\n",
       "    <tr>\n",
       "      <th>min</th>\n",
       "      <td>15.000000</td>\n",
       "      <td>1.190000e+06</td>\n",
       "      <td>13.000000</td>\n",
       "      <td>0.000000</td>\n",
       "      <td>2.450000</td>\n",
       "      <td>2.000000</td>\n",
       "      <td>5.400000</td>\n",
       "      <td>1.000000</td>\n",
       "      <td>2.000000</td>\n",
       "      <td>399.000000</td>\n",
       "      <td>1.000000</td>\n",
       "      <td>26250.000000</td>\n",
       "      <td>0.070000</td>\n",
       "      <td>0.060000</td>\n",
       "    </tr>\n",
       "    <tr>\n",
       "      <th>25%</th>\n",
       "      <td>5906.250000</td>\n",
       "      <td>3.772500e+06</td>\n",
       "      <td>37.000000</td>\n",
       "      <td>1.000000</td>\n",
       "      <td>2.550000</td>\n",
       "      <td>7.000000</td>\n",
       "      <td>18.000000</td>\n",
       "      <td>3.000000</td>\n",
       "      <td>6.600000</td>\n",
       "      <td>10863.250000</td>\n",
       "      <td>9.000000</td>\n",
       "      <td>89539.220000</td>\n",
       "      <td>0.510000</td>\n",
       "      <td>0.140000</td>\n",
       "    </tr>\n",
       "    <tr>\n",
       "      <th>50%</th>\n",
       "      <td>11735.000000</td>\n",
       "      <td>4.600000e+06</td>\n",
       "      <td>45.600000</td>\n",
       "      <td>2.000000</td>\n",
       "      <td>2.700000</td>\n",
       "      <td>9.000000</td>\n",
       "      <td>27.800000</td>\n",
       "      <td>5.000000</td>\n",
       "      <td>8.300000</td>\n",
       "      <td>13051.500000</td>\n",
       "      <td>18.000000</td>\n",
       "      <td>100985.820000</td>\n",
       "      <td>0.560000</td>\n",
       "      <td>0.180000</td>\n",
       "    </tr>\n",
       "    <tr>\n",
       "      <th>75%</th>\n",
       "      <td>17660.750000</td>\n",
       "      <td>5.953827e+06</td>\n",
       "      <td>59.200000</td>\n",
       "      <td>2.000000</td>\n",
       "      <td>2.700000</td>\n",
       "      <td>15.000000</td>\n",
       "      <td>35.200000</td>\n",
       "      <td>8.000000</td>\n",
       "      <td>10.700000</td>\n",
       "      <td>15230.250000</td>\n",
       "      <td>28.000000</td>\n",
       "      <td>115277.780000</td>\n",
       "      <td>0.630000</td>\n",
       "      <td>0.240000</td>\n",
       "    </tr>\n",
       "    <tr>\n",
       "      <th>max</th>\n",
       "      <td>23690.000000</td>\n",
       "      <td>1.390000e+07</td>\n",
       "      <td>119.000000</td>\n",
       "      <td>6.000000</td>\n",
       "      <td>2.970000</td>\n",
       "      <td>28.000000</td>\n",
       "      <td>80.000000</td>\n",
       "      <td>15.000000</td>\n",
       "      <td>23.482983</td>\n",
       "      <td>24329.000000</td>\n",
       "      <td>37.000000</td>\n",
       "      <td>292307.690000</td>\n",
       "      <td>0.910000</td>\n",
       "      <td>0.560000</td>\n",
       "    </tr>\n",
       "  </tbody>\n",
       "</table>\n",
       "</div>"
      ],
      "text/plain": [
       "         Unnamed: 0    last_price   total_area        rooms  ceiling_height  \\\n",
       "count   2482.000000  2.482000e+03  2482.000000  2482.000000     2482.000000   \n",
       "mean   11816.397260  5.102817e+06    49.456277     1.831587        2.646543   \n",
       "std     6780.344389  1.903970e+06    16.168311     0.863428        0.098077   \n",
       "min       15.000000  1.190000e+06    13.000000     0.000000        2.450000   \n",
       "25%     5906.250000  3.772500e+06    37.000000     1.000000        2.550000   \n",
       "50%    11735.000000  4.600000e+06    45.600000     2.000000        2.700000   \n",
       "75%    17660.750000  5.953827e+06    59.200000     2.000000        2.700000   \n",
       "max    23690.000000  1.390000e+07   119.000000     6.000000        2.970000   \n",
       "\n",
       "       floors_total  living_area        floor  kitchen_area  \\\n",
       "count   2482.000000  2482.000000  2482.000000   2482.000000   \n",
       "mean      11.202256    28.368280     5.727639      9.097553   \n",
       "std        5.524504    11.331059     3.640754      3.322722   \n",
       "min        2.000000     5.400000     1.000000      2.000000   \n",
       "25%        7.000000    18.000000     3.000000      6.600000   \n",
       "50%        9.000000    27.800000     5.000000      8.300000   \n",
       "75%       15.000000    35.200000     8.000000     10.700000   \n",
       "max       28.000000    80.000000    15.000000     23.482983   \n",
       "\n",
       "       cityCenters_nearest  days_exposition  price_square_meter  \\\n",
       "count          2482.000000      2482.000000         2482.000000   \n",
       "mean          12711.775181        18.388799       104307.598985   \n",
       "std            3875.709114        10.103451        22245.568036   \n",
       "min             399.000000         1.000000        26250.000000   \n",
       "25%           10863.250000         9.000000        89539.220000   \n",
       "50%           13051.500000        18.000000       100985.820000   \n",
       "75%           15230.250000        28.000000       115277.780000   \n",
       "max           24329.000000        37.000000       292307.690000   \n",
       "\n",
       "       living_area_%  kitchen_area_%  \n",
       "count    2482.000000     2482.000000  \n",
       "mean        0.566962        0.195629  \n",
       "std         0.094675        0.078290  \n",
       "min         0.070000        0.060000  \n",
       "25%         0.510000        0.140000  \n",
       "50%         0.560000        0.180000  \n",
       "75%         0.630000        0.240000  \n",
       "max         0.910000        0.560000  "
      ]
     },
     "execution_count": 132,
     "metadata": {},
     "output_type": "execute_result"
    }
   ],
   "source": [
    "fast_sail.describe()"
   ]
  },
  {
   "cell_type": "code",
   "execution_count": 133,
   "id": "6df5b89a",
   "metadata": {},
   "outputs": [
    {
     "data": {
      "text/html": [
       "<div>\n",
       "<style scoped>\n",
       "    .dataframe tbody tr th:only-of-type {\n",
       "        vertical-align: middle;\n",
       "    }\n",
       "\n",
       "    .dataframe tbody tr th {\n",
       "        vertical-align: top;\n",
       "    }\n",
       "\n",
       "    .dataframe thead th {\n",
       "        text-align: right;\n",
       "    }\n",
       "</style>\n",
       "<table border=\"1\" class=\"dataframe\">\n",
       "  <thead>\n",
       "    <tr style=\"text-align: right;\">\n",
       "      <th></th>\n",
       "      <th>Unnamed: 0</th>\n",
       "      <th>last_price</th>\n",
       "      <th>total_area</th>\n",
       "      <th>rooms</th>\n",
       "      <th>ceiling_height</th>\n",
       "      <th>floors_total</th>\n",
       "      <th>living_area</th>\n",
       "      <th>floor</th>\n",
       "      <th>kitchen_area</th>\n",
       "      <th>cityCenters_nearest</th>\n",
       "      <th>days_exposition</th>\n",
       "      <th>price_square_meter</th>\n",
       "      <th>living_area_%</th>\n",
       "      <th>kitchen_area_%</th>\n",
       "    </tr>\n",
       "  </thead>\n",
       "  <tbody>\n",
       "    <tr>\n",
       "      <th>count</th>\n",
       "      <td>2498.000000</td>\n",
       "      <td>2.498000e+03</td>\n",
       "      <td>2498.000000</td>\n",
       "      <td>2498.000000</td>\n",
       "      <td>2498.000000</td>\n",
       "      <td>2498.000000</td>\n",
       "      <td>2498.000000</td>\n",
       "      <td>2498.000000</td>\n",
       "      <td>2498.000000</td>\n",
       "      <td>2498.000000</td>\n",
       "      <td>2498.000000</td>\n",
       "      <td>2498.000000</td>\n",
       "      <td>2498.000000</td>\n",
       "      <td>2498.000000</td>\n",
       "    </tr>\n",
       "    <tr>\n",
       "      <th>mean</th>\n",
       "      <td>12037.828663</td>\n",
       "      <td>5.565614e+06</td>\n",
       "      <td>54.413535</td>\n",
       "      <td>1.993595</td>\n",
       "      <td>2.654764</td>\n",
       "      <td>11.553243</td>\n",
       "      <td>31.356661</td>\n",
       "      <td>5.500801</td>\n",
       "      <td>9.752580</td>\n",
       "      <td>12350.319856</td>\n",
       "      <td>246.052442</td>\n",
       "      <td>103489.009572</td>\n",
       "      <td>0.566910</td>\n",
       "      <td>0.192334</td>\n",
       "    </tr>\n",
       "    <tr>\n",
       "      <th>std</th>\n",
       "      <td>6765.682831</td>\n",
       "      <td>2.211925e+06</td>\n",
       "      <td>19.042825</td>\n",
       "      <td>0.913104</td>\n",
       "      <td>0.093498</td>\n",
       "      <td>5.858682</td>\n",
       "      <td>13.343785</td>\n",
       "      <td>3.682128</td>\n",
       "      <td>3.607308</td>\n",
       "      <td>4078.523061</td>\n",
       "      <td>80.807757</td>\n",
       "      <td>22786.318283</td>\n",
       "      <td>0.099024</td>\n",
       "      <td>0.080410</td>\n",
       "    </tr>\n",
       "    <tr>\n",
       "      <th>min</th>\n",
       "      <td>9.000000</td>\n",
       "      <td>1.400000e+06</td>\n",
       "      <td>12.000000</td>\n",
       "      <td>0.000000</td>\n",
       "      <td>2.400000</td>\n",
       "      <td>2.000000</td>\n",
       "      <td>6.000000</td>\n",
       "      <td>1.000000</td>\n",
       "      <td>2.000000</td>\n",
       "      <td>467.000000</td>\n",
       "      <td>142.000000</td>\n",
       "      <td>57333.330000</td>\n",
       "      <td>0.190000</td>\n",
       "      <td>0.040000</td>\n",
       "    </tr>\n",
       "    <tr>\n",
       "      <th>25%</th>\n",
       "      <td>6105.250000</td>\n",
       "      <td>3.995000e+06</td>\n",
       "      <td>40.100000</td>\n",
       "      <td>1.000000</td>\n",
       "      <td>2.600000</td>\n",
       "      <td>7.000000</td>\n",
       "      <td>18.900000</td>\n",
       "      <td>2.000000</td>\n",
       "      <td>7.000000</td>\n",
       "      <td>10364.000000</td>\n",
       "      <td>177.000000</td>\n",
       "      <td>87933.197500</td>\n",
       "      <td>0.510000</td>\n",
       "      <td>0.130000</td>\n",
       "    </tr>\n",
       "    <tr>\n",
       "      <th>50%</th>\n",
       "      <td>12329.000000</td>\n",
       "      <td>4.950000e+06</td>\n",
       "      <td>50.000000</td>\n",
       "      <td>2.000000</td>\n",
       "      <td>2.700000</td>\n",
       "      <td>10.000000</td>\n",
       "      <td>30.000000</td>\n",
       "      <td>5.000000</td>\n",
       "      <td>9.000000</td>\n",
       "      <td>12816.000000</td>\n",
       "      <td>223.000000</td>\n",
       "      <td>100000.000000</td>\n",
       "      <td>0.570000</td>\n",
       "      <td>0.170000</td>\n",
       "    </tr>\n",
       "    <tr>\n",
       "      <th>75%</th>\n",
       "      <td>17688.250000</td>\n",
       "      <td>6.500000e+06</td>\n",
       "      <td>65.000000</td>\n",
       "      <td>3.000000</td>\n",
       "      <td>2.700000</td>\n",
       "      <td>16.000000</td>\n",
       "      <td>40.000000</td>\n",
       "      <td>8.000000</td>\n",
       "      <td>11.430000</td>\n",
       "      <td>15096.000000</td>\n",
       "      <td>306.750000</td>\n",
       "      <td>114628.907500</td>\n",
       "      <td>0.640000</td>\n",
       "      <td>0.230000</td>\n",
       "    </tr>\n",
       "    <tr>\n",
       "      <th>max</th>\n",
       "      <td>23686.000000</td>\n",
       "      <td>1.390000e+07</td>\n",
       "      <td>123.000000</td>\n",
       "      <td>5.000000</td>\n",
       "      <td>2.970000</td>\n",
       "      <td>28.000000</td>\n",
       "      <td>80.000000</td>\n",
       "      <td>15.000000</td>\n",
       "      <td>23.013323</td>\n",
       "      <td>24137.000000</td>\n",
       "      <td>429.000000</td>\n",
       "      <td>262711.860000</td>\n",
       "      <td>0.890000</td>\n",
       "      <td>0.570000</td>\n",
       "    </tr>\n",
       "  </tbody>\n",
       "</table>\n",
       "</div>"
      ],
      "text/plain": [
       "         Unnamed: 0    last_price   total_area        rooms  ceiling_height  \\\n",
       "count   2498.000000  2.498000e+03  2498.000000  2498.000000     2498.000000   \n",
       "mean   12037.828663  5.565614e+06    54.413535     1.993595        2.654764   \n",
       "std     6765.682831  2.211925e+06    19.042825     0.913104        0.093498   \n",
       "min        9.000000  1.400000e+06    12.000000     0.000000        2.400000   \n",
       "25%     6105.250000  3.995000e+06    40.100000     1.000000        2.600000   \n",
       "50%    12329.000000  4.950000e+06    50.000000     2.000000        2.700000   \n",
       "75%    17688.250000  6.500000e+06    65.000000     3.000000        2.700000   \n",
       "max    23686.000000  1.390000e+07   123.000000     5.000000        2.970000   \n",
       "\n",
       "       floors_total  living_area        floor  kitchen_area  \\\n",
       "count   2498.000000  2498.000000  2498.000000   2498.000000   \n",
       "mean      11.553243    31.356661     5.500801      9.752580   \n",
       "std        5.858682    13.343785     3.682128      3.607308   \n",
       "min        2.000000     6.000000     1.000000      2.000000   \n",
       "25%        7.000000    18.900000     2.000000      7.000000   \n",
       "50%       10.000000    30.000000     5.000000      9.000000   \n",
       "75%       16.000000    40.000000     8.000000     11.430000   \n",
       "max       28.000000    80.000000    15.000000     23.013323   \n",
       "\n",
       "       cityCenters_nearest  days_exposition  price_square_meter  \\\n",
       "count          2498.000000      2498.000000         2498.000000   \n",
       "mean          12350.319856       246.052442       103489.009572   \n",
       "std            4078.523061        80.807757        22786.318283   \n",
       "min             467.000000       142.000000        57333.330000   \n",
       "25%           10364.000000       177.000000        87933.197500   \n",
       "50%           12816.000000       223.000000       100000.000000   \n",
       "75%           15096.000000       306.750000       114628.907500   \n",
       "max           24137.000000       429.000000       262711.860000   \n",
       "\n",
       "       living_area_%  kitchen_area_%  \n",
       "count    2498.000000     2498.000000  \n",
       "mean        0.566910        0.192334  \n",
       "std         0.099024        0.080410  \n",
       "min         0.190000        0.040000  \n",
       "25%         0.510000        0.130000  \n",
       "50%         0.570000        0.170000  \n",
       "75%         0.640000        0.230000  \n",
       "max         0.890000        0.570000  "
      ]
     },
     "execution_count": 133,
     "metadata": {},
     "output_type": "execute_result"
    }
   ],
   "source": [
    "long_sail.describe()"
   ]
  },
  {
   "cell_type": "markdown",
   "id": "726172ac",
   "metadata": {},
   "source": [
    "<blockquote> Какая высота потолков чаще всего встречается в объявлениях о продаже? </blockquote>\n",
    "2.70 \n"
   ]
  },
  {
   "cell_type": "code",
   "execution_count": null,
   "id": "71670fa0",
   "metadata": {},
   "outputs": [],
   "source": [
    "upd_df.ceiling_height.value_counts().head()"
   ]
  },
  {
   "cell_type": "markdown",
   "id": "056c0ba2",
   "metadata": {},
   "source": [
    "<blockquote>Какое типичное значение общей площади квартир? </blockquote>\n",
    "45.0.\n",
    " В выборке 56% квартир принадлежат промежутку от 39.75 кв.м до 67.5."
   ]
  },
  {
   "cell_type": "code",
   "execution_count": 144,
   "id": "a2159bb0",
   "metadata": {},
   "outputs": [
    {
     "data": {
      "text/plain": [
       "(39.75, 67.5]      0.557998\n",
       "(11.888, 39.75]    0.261565\n",
       "(67.5, 95.25]      0.152663\n",
       "(95.25, 123.0]     0.027775\n",
       "Name: total_area, dtype: float64"
      ]
     },
     "execution_count": 144,
     "metadata": {},
     "output_type": "execute_result"
    }
   ],
   "source": [
    " upd_df.total_area.value_counts(bins = 4, normalize = True).head(10)"
   ]
  },
  {
   "cell_type": "markdown",
   "id": "bb05695f",
   "metadata": {},
   "source": [
    "<blockquote>Какое среднее значение стоимости квартир?</blockquote>\n",
    "5 446 703.24"
   ]
  },
  {
   "cell_type": "code",
   "execution_count": 296,
   "id": "78ac98a6",
   "metadata": {},
   "outputs": [
    {
     "data": {
      "text/plain": [
       "5446703.24"
      ]
     },
     "execution_count": 296,
     "metadata": {},
     "output_type": "execute_result"
    }
   ],
   "source": [
    "round(upd_df.last_price.mean(), 2)"
   ]
  },
  {
   "cell_type": "markdown",
   "id": "e5823070",
   "metadata": {},
   "source": [
    "<blockquote>Влияет ли число комнат на общую площадь квартиры? </blockquote>\n",
    "Да. \n",
    "Есть значимая корреляция между числом комнтат и общей площадью кваритр (r = 0,84, p < 0.05)\n"
   ]
  },
  {
   "cell_type": "code",
   "execution_count": 158,
   "id": "83cf351e",
   "metadata": {},
   "outputs": [
    {
     "data": {
      "text/plain": [
       "(0.8401350768721924, 0.0)"
      ]
     },
     "execution_count": 158,
     "metadata": {},
     "output_type": "execute_result"
    }
   ],
   "source": [
    "upd_df['rooms'].corr(upd_df['total_area'], method='spearman')\n",
    "\n",
    "r, p = scipy.stats.spearmanr(upd_df['rooms'], upd_df['total_area'])\n",
    "r, p"
   ]
  },
  {
   "cell_type": "markdown",
   "id": "0bc52e37",
   "metadata": {},
   "source": [
    "<blockquote>Какие признаки влияют на стоимость квартиры?</blockquote>\n",
    "Больше всего на стоимость квартиры влияет ее площадь(r = 0.805), а также кол-во комнат (r = 0.5),                              размер жилой площади (r = 0.67),площадь кухни (r = 0.44).\n",
    "\n",
    "Между ценой на квартиру и расстоянием до центра есть отрицательная корреляция: чем выше цена, тем ближе к центру и наоборот."
   ]
  },
  {
   "cell_type": "code",
   "execution_count": 211,
   "id": "c42f788a",
   "metadata": {},
   "outputs": [
    {
     "data": {
      "text/html": [
       "<div>\n",
       "<style scoped>\n",
       "    .dataframe tbody tr th:only-of-type {\n",
       "        vertical-align: middle;\n",
       "    }\n",
       "\n",
       "    .dataframe tbody tr th {\n",
       "        vertical-align: top;\n",
       "    }\n",
       "\n",
       "    .dataframe thead th {\n",
       "        text-align: right;\n",
       "    }\n",
       "</style>\n",
       "<table border=\"1\" class=\"dataframe\">\n",
       "  <thead>\n",
       "    <tr style=\"text-align: right;\">\n",
       "      <th></th>\n",
       "      <th>last_price</th>\n",
       "      <th>total_area</th>\n",
       "      <th>rooms</th>\n",
       "      <th>floors_total</th>\n",
       "      <th>living_area</th>\n",
       "      <th>ceiling_height</th>\n",
       "      <th>floor</th>\n",
       "      <th>kitchen_area</th>\n",
       "      <th>cityCenters_nearest</th>\n",
       "      <th>days_exposition</th>\n",
       "    </tr>\n",
       "  </thead>\n",
       "  <tbody>\n",
       "    <tr>\n",
       "      <th>last_price</th>\n",
       "      <td>1.000000</td>\n",
       "      <td>0.805264</td>\n",
       "      <td>0.500421</td>\n",
       "      <td>0.186759</td>\n",
       "      <td>0.666963</td>\n",
       "      <td>0.277934</td>\n",
       "      <td>0.116903</td>\n",
       "      <td>0.441073</td>\n",
       "      <td>-0.292663</td>\n",
       "      <td>0.073886</td>\n",
       "    </tr>\n",
       "    <tr>\n",
       "      <th>total_area</th>\n",
       "      <td>0.805264</td>\n",
       "      <td>1.000000</td>\n",
       "      <td>0.790391</td>\n",
       "      <td>0.066563</td>\n",
       "      <td>0.916717</td>\n",
       "      <td>0.178375</td>\n",
       "      <td>0.018542</td>\n",
       "      <td>0.339433</td>\n",
       "      <td>-0.131467</td>\n",
       "      <td>0.105198</td>\n",
       "    </tr>\n",
       "    <tr>\n",
       "      <th>rooms</th>\n",
       "      <td>0.500421</td>\n",
       "      <td>0.790391</td>\n",
       "      <td>1.000000</td>\n",
       "      <td>-0.213351</td>\n",
       "      <td>0.889588</td>\n",
       "      <td>-0.064260</td>\n",
       "      <td>-0.137165</td>\n",
       "      <td>-0.021056</td>\n",
       "      <td>-0.084981</td>\n",
       "      <td>0.073161</td>\n",
       "    </tr>\n",
       "    <tr>\n",
       "      <th>floors_total</th>\n",
       "      <td>0.186759</td>\n",
       "      <td>0.066563</td>\n",
       "      <td>-0.213351</td>\n",
       "      <td>1.000000</td>\n",
       "      <td>-0.110049</td>\n",
       "      <td>0.279030</td>\n",
       "      <td>0.484827</td>\n",
       "      <td>0.369107</td>\n",
       "      <td>0.236318</td>\n",
       "      <td>0.012408</td>\n",
       "    </tr>\n",
       "    <tr>\n",
       "      <th>living_area</th>\n",
       "      <td>0.666963</td>\n",
       "      <td>0.916717</td>\n",
       "      <td>0.889588</td>\n",
       "      <td>-0.110049</td>\n",
       "      <td>1.000000</td>\n",
       "      <td>0.054735</td>\n",
       "      <td>-0.078552</td>\n",
       "      <td>0.101178</td>\n",
       "      <td>-0.127968</td>\n",
       "      <td>0.091438</td>\n",
       "    </tr>\n",
       "    <tr>\n",
       "      <th>ceiling_height</th>\n",
       "      <td>0.277934</td>\n",
       "      <td>0.178375</td>\n",
       "      <td>-0.064260</td>\n",
       "      <td>0.279030</td>\n",
       "      <td>0.054735</td>\n",
       "      <td>1.000000</td>\n",
       "      <td>0.128884</td>\n",
       "      <td>0.331926</td>\n",
       "      <td>-0.165761</td>\n",
       "      <td>0.026856</td>\n",
       "    </tr>\n",
       "    <tr>\n",
       "      <th>floor</th>\n",
       "      <td>0.116903</td>\n",
       "      <td>0.018542</td>\n",
       "      <td>-0.137165</td>\n",
       "      <td>0.484827</td>\n",
       "      <td>-0.078552</td>\n",
       "      <td>0.128884</td>\n",
       "      <td>1.000000</td>\n",
       "      <td>0.189184</td>\n",
       "      <td>0.138718</td>\n",
       "      <td>-0.023369</td>\n",
       "    </tr>\n",
       "    <tr>\n",
       "      <th>kitchen_area</th>\n",
       "      <td>0.441073</td>\n",
       "      <td>0.339433</td>\n",
       "      <td>-0.021056</td>\n",
       "      <td>0.369107</td>\n",
       "      <td>0.101178</td>\n",
       "      <td>0.331926</td>\n",
       "      <td>0.189184</td>\n",
       "      <td>1.000000</td>\n",
       "      <td>-0.053690</td>\n",
       "      <td>0.035463</td>\n",
       "    </tr>\n",
       "    <tr>\n",
       "      <th>cityCenters_nearest</th>\n",
       "      <td>-0.292663</td>\n",
       "      <td>-0.131467</td>\n",
       "      <td>-0.084981</td>\n",
       "      <td>0.236318</td>\n",
       "      <td>-0.127968</td>\n",
       "      <td>-0.165761</td>\n",
       "      <td>0.138718</td>\n",
       "      <td>-0.053690</td>\n",
       "      <td>1.000000</td>\n",
       "      <td>-0.033111</td>\n",
       "    </tr>\n",
       "    <tr>\n",
       "      <th>days_exposition</th>\n",
       "      <td>0.073886</td>\n",
       "      <td>0.105198</td>\n",
       "      <td>0.073161</td>\n",
       "      <td>0.012408</td>\n",
       "      <td>0.091438</td>\n",
       "      <td>0.026856</td>\n",
       "      <td>-0.023369</td>\n",
       "      <td>0.035463</td>\n",
       "      <td>-0.033111</td>\n",
       "      <td>1.000000</td>\n",
       "    </tr>\n",
       "  </tbody>\n",
       "</table>\n",
       "</div>"
      ],
      "text/plain": [
       "                     last_price  total_area     rooms  floors_total  \\\n",
       "last_price             1.000000    0.805264  0.500421      0.186759   \n",
       "total_area             0.805264    1.000000  0.790391      0.066563   \n",
       "rooms                  0.500421    0.790391  1.000000     -0.213351   \n",
       "floors_total           0.186759    0.066563 -0.213351      1.000000   \n",
       "living_area            0.666963    0.916717  0.889588     -0.110049   \n",
       "ceiling_height         0.277934    0.178375 -0.064260      0.279030   \n",
       "floor                  0.116903    0.018542 -0.137165      0.484827   \n",
       "kitchen_area           0.441073    0.339433 -0.021056      0.369107   \n",
       "cityCenters_nearest   -0.292663   -0.131467 -0.084981      0.236318   \n",
       "days_exposition        0.073886    0.105198  0.073161      0.012408   \n",
       "\n",
       "                     living_area  ceiling_height     floor  kitchen_area  \\\n",
       "last_price              0.666963        0.277934  0.116903      0.441073   \n",
       "total_area              0.916717        0.178375  0.018542      0.339433   \n",
       "rooms                   0.889588       -0.064260 -0.137165     -0.021056   \n",
       "floors_total           -0.110049        0.279030  0.484827      0.369107   \n",
       "living_area             1.000000        0.054735 -0.078552      0.101178   \n",
       "ceiling_height          0.054735        1.000000  0.128884      0.331926   \n",
       "floor                  -0.078552        0.128884  1.000000      0.189184   \n",
       "kitchen_area            0.101178        0.331926  0.189184      1.000000   \n",
       "cityCenters_nearest    -0.127968       -0.165761  0.138718     -0.053690   \n",
       "days_exposition         0.091438        0.026856 -0.023369      0.035463   \n",
       "\n",
       "                     cityCenters_nearest  days_exposition  \n",
       "last_price                     -0.292663         0.073886  \n",
       "total_area                     -0.131467         0.105198  \n",
       "rooms                          -0.084981         0.073161  \n",
       "floors_total                    0.236318         0.012408  \n",
       "living_area                    -0.127968         0.091438  \n",
       "ceiling_height                 -0.165761         0.026856  \n",
       "floor                           0.138718        -0.023369  \n",
       "kitchen_area                   -0.053690         0.035463  \n",
       "cityCenters_nearest             1.000000        -0.033111  \n",
       "days_exposition                -0.033111         1.000000  "
      ]
     },
     "execution_count": 211,
     "metadata": {},
     "output_type": "execute_result"
    }
   ],
   "source": [
    "correlations = upd_df[['last_price','total_area','rooms','floors_total', 'living_area','ceiling_height', 'floor', \n",
    "                       'kitchen_area', 'cityCenters_nearest', 'days_exposition']].corr()\n",
    "correlations"
   ]
  },
  {
   "cell_type": "code",
   "execution_count": 212,
   "id": "40c52f38",
   "metadata": {},
   "outputs": [
    {
     "data": {
      "application/vnd.plotly.v1+json": {
       "config": {
        "plotlyServerURL": "https://plot.ly"
       },
       "data": [
        {
         "coloraxis": "coloraxis",
         "hovertemplate": "x: %{x}<br>y: %{y}<br>color: %{z}<extra></extra>",
         "name": "0",
         "type": "heatmap",
         "x": [
          "last_price",
          "total_area",
          "rooms",
          "floors_total",
          "living_area",
          "ceiling_height",
          "floor",
          "kitchen_area",
          "cityCenters_nearest",
          "days_exposition"
         ],
         "xaxis": "x",
         "y": [
          "last_price",
          "total_area",
          "rooms",
          "floors_total",
          "living_area",
          "ceiling_height",
          "floor",
          "kitchen_area",
          "cityCenters_nearest",
          "days_exposition"
         ],
         "yaxis": "y",
         "z": [
          [
           1,
           0.8052635130311923,
           0.5004212138821903,
           0.18675880127798397,
           0.6669632829876415,
           0.27793361600195216,
           0.11690276492161114,
           0.44107282784055685,
           -0.2926628100411191,
           0.0738864344522359
          ],
          [
           0.8052635130311923,
           1,
           0.790391431897474,
           0.06656260081569214,
           0.916716646908904,
           0.17837452439383372,
           0.018541938892525103,
           0.33943286549087975,
           -0.1314666122751045,
           0.10519774390870187
          ],
          [
           0.5004212138821903,
           0.790391431897474,
           1,
           -0.21335078225008508,
           0.8895877655661354,
           -0.06425979536215752,
           -0.13716542223794076,
           -0.021055523042287874,
           -0.08498132274805524,
           0.07316124183933422
          ],
          [
           0.18675880127798397,
           0.06656260081569214,
           -0.21335078225008508,
           1,
           -0.1100490690188281,
           0.2790300765450776,
           0.4848265098485901,
           0.3691065319586889,
           0.23631825804686937,
           0.012407631513621573
          ],
          [
           0.6669632829876415,
           0.916716646908904,
           0.8895877655661354,
           -0.1100490690188281,
           1,
           0.054734908179116276,
           -0.07855199618348,
           0.10117789350287307,
           -0.12796759382706874,
           0.09143752284101327
          ],
          [
           0.27793361600195216,
           0.17837452439383372,
           -0.06425979536215752,
           0.2790300765450776,
           0.054734908179116276,
           1,
           0.1288843513748461,
           0.3319258948905686,
           -0.16576122744180505,
           0.02685572469431374
          ],
          [
           0.11690276492161114,
           0.018541938892525103,
           -0.13716542223794076,
           0.4848265098485901,
           -0.07855199618348,
           0.1288843513748461,
           1,
           0.18918448200049431,
           0.1387175371531146,
           -0.023368632563353448
          ],
          [
           0.44107282784055685,
           0.33943286549087975,
           -0.021055523042287874,
           0.3691065319586889,
           0.10117789350287307,
           0.3319258948905686,
           0.18918448200049431,
           1,
           -0.053689620621342034,
           0.03546277394387301
          ],
          [
           -0.2926628100411191,
           -0.1314666122751045,
           -0.08498132274805524,
           0.23631825804686937,
           -0.12796759382706874,
           -0.16576122744180505,
           0.1387175371531146,
           -0.053689620621342034,
           1,
           -0.03311071827776455
          ],
          [
           0.0738864344522359,
           0.10519774390870187,
           0.07316124183933422,
           0.012407631513621573,
           0.09143752284101327,
           0.02685572469431374,
           -0.023368632563353448,
           0.03546277394387301,
           -0.03311071827776455,
           1
          ]
         ]
        }
       ],
       "layout": {
        "coloraxis": {
         "colorscale": [
          [
           0,
           "#440154"
          ],
          [
           0.1111111111111111,
           "#482878"
          ],
          [
           0.2222222222222222,
           "#3e4989"
          ],
          [
           0.3333333333333333,
           "#31688e"
          ],
          [
           0.4444444444444444,
           "#26828e"
          ],
          [
           0.5555555555555556,
           "#1f9e89"
          ],
          [
           0.6666666666666666,
           "#35b779"
          ],
          [
           0.7777777777777778,
           "#6ece58"
          ],
          [
           0.8888888888888888,
           "#b5de2b"
          ],
          [
           1,
           "#fde725"
          ]
         ]
        },
        "margin": {
         "t": 60
        },
        "template": {
         "data": {
          "bar": [
           {
            "error_x": {
             "color": "#2a3f5f"
            },
            "error_y": {
             "color": "#2a3f5f"
            },
            "marker": {
             "line": {
              "color": "#E5ECF6",
              "width": 0.5
             },
             "pattern": {
              "fillmode": "overlay",
              "size": 10,
              "solidity": 0.2
             }
            },
            "type": "bar"
           }
          ],
          "barpolar": [
           {
            "marker": {
             "line": {
              "color": "#E5ECF6",
              "width": 0.5
             },
             "pattern": {
              "fillmode": "overlay",
              "size": 10,
              "solidity": 0.2
             }
            },
            "type": "barpolar"
           }
          ],
          "carpet": [
           {
            "aaxis": {
             "endlinecolor": "#2a3f5f",
             "gridcolor": "white",
             "linecolor": "white",
             "minorgridcolor": "white",
             "startlinecolor": "#2a3f5f"
            },
            "baxis": {
             "endlinecolor": "#2a3f5f",
             "gridcolor": "white",
             "linecolor": "white",
             "minorgridcolor": "white",
             "startlinecolor": "#2a3f5f"
            },
            "type": "carpet"
           }
          ],
          "choropleth": [
           {
            "colorbar": {
             "outlinewidth": 0,
             "ticks": ""
            },
            "type": "choropleth"
           }
          ],
          "contour": [
           {
            "colorbar": {
             "outlinewidth": 0,
             "ticks": ""
            },
            "colorscale": [
             [
              0,
              "#0d0887"
             ],
             [
              0.1111111111111111,
              "#46039f"
             ],
             [
              0.2222222222222222,
              "#7201a8"
             ],
             [
              0.3333333333333333,
              "#9c179e"
             ],
             [
              0.4444444444444444,
              "#bd3786"
             ],
             [
              0.5555555555555556,
              "#d8576b"
             ],
             [
              0.6666666666666666,
              "#ed7953"
             ],
             [
              0.7777777777777778,
              "#fb9f3a"
             ],
             [
              0.8888888888888888,
              "#fdca26"
             ],
             [
              1,
              "#f0f921"
             ]
            ],
            "type": "contour"
           }
          ],
          "contourcarpet": [
           {
            "colorbar": {
             "outlinewidth": 0,
             "ticks": ""
            },
            "type": "contourcarpet"
           }
          ],
          "heatmap": [
           {
            "colorbar": {
             "outlinewidth": 0,
             "ticks": ""
            },
            "colorscale": [
             [
              0,
              "#0d0887"
             ],
             [
              0.1111111111111111,
              "#46039f"
             ],
             [
              0.2222222222222222,
              "#7201a8"
             ],
             [
              0.3333333333333333,
              "#9c179e"
             ],
             [
              0.4444444444444444,
              "#bd3786"
             ],
             [
              0.5555555555555556,
              "#d8576b"
             ],
             [
              0.6666666666666666,
              "#ed7953"
             ],
             [
              0.7777777777777778,
              "#fb9f3a"
             ],
             [
              0.8888888888888888,
              "#fdca26"
             ],
             [
              1,
              "#f0f921"
             ]
            ],
            "type": "heatmap"
           }
          ],
          "heatmapgl": [
           {
            "colorbar": {
             "outlinewidth": 0,
             "ticks": ""
            },
            "colorscale": [
             [
              0,
              "#0d0887"
             ],
             [
              0.1111111111111111,
              "#46039f"
             ],
             [
              0.2222222222222222,
              "#7201a8"
             ],
             [
              0.3333333333333333,
              "#9c179e"
             ],
             [
              0.4444444444444444,
              "#bd3786"
             ],
             [
              0.5555555555555556,
              "#d8576b"
             ],
             [
              0.6666666666666666,
              "#ed7953"
             ],
             [
              0.7777777777777778,
              "#fb9f3a"
             ],
             [
              0.8888888888888888,
              "#fdca26"
             ],
             [
              1,
              "#f0f921"
             ]
            ],
            "type": "heatmapgl"
           }
          ],
          "histogram": [
           {
            "marker": {
             "pattern": {
              "fillmode": "overlay",
              "size": 10,
              "solidity": 0.2
             }
            },
            "type": "histogram"
           }
          ],
          "histogram2d": [
           {
            "colorbar": {
             "outlinewidth": 0,
             "ticks": ""
            },
            "colorscale": [
             [
              0,
              "#0d0887"
             ],
             [
              0.1111111111111111,
              "#46039f"
             ],
             [
              0.2222222222222222,
              "#7201a8"
             ],
             [
              0.3333333333333333,
              "#9c179e"
             ],
             [
              0.4444444444444444,
              "#bd3786"
             ],
             [
              0.5555555555555556,
              "#d8576b"
             ],
             [
              0.6666666666666666,
              "#ed7953"
             ],
             [
              0.7777777777777778,
              "#fb9f3a"
             ],
             [
              0.8888888888888888,
              "#fdca26"
             ],
             [
              1,
              "#f0f921"
             ]
            ],
            "type": "histogram2d"
           }
          ],
          "histogram2dcontour": [
           {
            "colorbar": {
             "outlinewidth": 0,
             "ticks": ""
            },
            "colorscale": [
             [
              0,
              "#0d0887"
             ],
             [
              0.1111111111111111,
              "#46039f"
             ],
             [
              0.2222222222222222,
              "#7201a8"
             ],
             [
              0.3333333333333333,
              "#9c179e"
             ],
             [
              0.4444444444444444,
              "#bd3786"
             ],
             [
              0.5555555555555556,
              "#d8576b"
             ],
             [
              0.6666666666666666,
              "#ed7953"
             ],
             [
              0.7777777777777778,
              "#fb9f3a"
             ],
             [
              0.8888888888888888,
              "#fdca26"
             ],
             [
              1,
              "#f0f921"
             ]
            ],
            "type": "histogram2dcontour"
           }
          ],
          "mesh3d": [
           {
            "colorbar": {
             "outlinewidth": 0,
             "ticks": ""
            },
            "type": "mesh3d"
           }
          ],
          "parcoords": [
           {
            "line": {
             "colorbar": {
              "outlinewidth": 0,
              "ticks": ""
             }
            },
            "type": "parcoords"
           }
          ],
          "pie": [
           {
            "automargin": true,
            "type": "pie"
           }
          ],
          "scatter": [
           {
            "marker": {
             "colorbar": {
              "outlinewidth": 0,
              "ticks": ""
             }
            },
            "type": "scatter"
           }
          ],
          "scatter3d": [
           {
            "line": {
             "colorbar": {
              "outlinewidth": 0,
              "ticks": ""
             }
            },
            "marker": {
             "colorbar": {
              "outlinewidth": 0,
              "ticks": ""
             }
            },
            "type": "scatter3d"
           }
          ],
          "scattercarpet": [
           {
            "marker": {
             "colorbar": {
              "outlinewidth": 0,
              "ticks": ""
             }
            },
            "type": "scattercarpet"
           }
          ],
          "scattergeo": [
           {
            "marker": {
             "colorbar": {
              "outlinewidth": 0,
              "ticks": ""
             }
            },
            "type": "scattergeo"
           }
          ],
          "scattergl": [
           {
            "marker": {
             "colorbar": {
              "outlinewidth": 0,
              "ticks": ""
             }
            },
            "type": "scattergl"
           }
          ],
          "scattermapbox": [
           {
            "marker": {
             "colorbar": {
              "outlinewidth": 0,
              "ticks": ""
             }
            },
            "type": "scattermapbox"
           }
          ],
          "scatterpolar": [
           {
            "marker": {
             "colorbar": {
              "outlinewidth": 0,
              "ticks": ""
             }
            },
            "type": "scatterpolar"
           }
          ],
          "scatterpolargl": [
           {
            "marker": {
             "colorbar": {
              "outlinewidth": 0,
              "ticks": ""
             }
            },
            "type": "scatterpolargl"
           }
          ],
          "scatterternary": [
           {
            "marker": {
             "colorbar": {
              "outlinewidth": 0,
              "ticks": ""
             }
            },
            "type": "scatterternary"
           }
          ],
          "surface": [
           {
            "colorbar": {
             "outlinewidth": 0,
             "ticks": ""
            },
            "colorscale": [
             [
              0,
              "#0d0887"
             ],
             [
              0.1111111111111111,
              "#46039f"
             ],
             [
              0.2222222222222222,
              "#7201a8"
             ],
             [
              0.3333333333333333,
              "#9c179e"
             ],
             [
              0.4444444444444444,
              "#bd3786"
             ],
             [
              0.5555555555555556,
              "#d8576b"
             ],
             [
              0.6666666666666666,
              "#ed7953"
             ],
             [
              0.7777777777777778,
              "#fb9f3a"
             ],
             [
              0.8888888888888888,
              "#fdca26"
             ],
             [
              1,
              "#f0f921"
             ]
            ],
            "type": "surface"
           }
          ],
          "table": [
           {
            "cells": {
             "fill": {
              "color": "#EBF0F8"
             },
             "line": {
              "color": "white"
             }
            },
            "header": {
             "fill": {
              "color": "#C8D4E3"
             },
             "line": {
              "color": "white"
             }
            },
            "type": "table"
           }
          ]
         },
         "layout": {
          "annotationdefaults": {
           "arrowcolor": "#2a3f5f",
           "arrowhead": 0,
           "arrowwidth": 1
          },
          "autotypenumbers": "strict",
          "coloraxis": {
           "colorbar": {
            "outlinewidth": 0,
            "ticks": ""
           }
          },
          "colorscale": {
           "diverging": [
            [
             0,
             "#8e0152"
            ],
            [
             0.1,
             "#c51b7d"
            ],
            [
             0.2,
             "#de77ae"
            ],
            [
             0.3,
             "#f1b6da"
            ],
            [
             0.4,
             "#fde0ef"
            ],
            [
             0.5,
             "#f7f7f7"
            ],
            [
             0.6,
             "#e6f5d0"
            ],
            [
             0.7,
             "#b8e186"
            ],
            [
             0.8,
             "#7fbc41"
            ],
            [
             0.9,
             "#4d9221"
            ],
            [
             1,
             "#276419"
            ]
           ],
           "sequential": [
            [
             0,
             "#0d0887"
            ],
            [
             0.1111111111111111,
             "#46039f"
            ],
            [
             0.2222222222222222,
             "#7201a8"
            ],
            [
             0.3333333333333333,
             "#9c179e"
            ],
            [
             0.4444444444444444,
             "#bd3786"
            ],
            [
             0.5555555555555556,
             "#d8576b"
            ],
            [
             0.6666666666666666,
             "#ed7953"
            ],
            [
             0.7777777777777778,
             "#fb9f3a"
            ],
            [
             0.8888888888888888,
             "#fdca26"
            ],
            [
             1,
             "#f0f921"
            ]
           ],
           "sequentialminus": [
            [
             0,
             "#0d0887"
            ],
            [
             0.1111111111111111,
             "#46039f"
            ],
            [
             0.2222222222222222,
             "#7201a8"
            ],
            [
             0.3333333333333333,
             "#9c179e"
            ],
            [
             0.4444444444444444,
             "#bd3786"
            ],
            [
             0.5555555555555556,
             "#d8576b"
            ],
            [
             0.6666666666666666,
             "#ed7953"
            ],
            [
             0.7777777777777778,
             "#fb9f3a"
            ],
            [
             0.8888888888888888,
             "#fdca26"
            ],
            [
             1,
             "#f0f921"
            ]
           ]
          },
          "colorway": [
           "#636efa",
           "#EF553B",
           "#00cc96",
           "#ab63fa",
           "#FFA15A",
           "#19d3f3",
           "#FF6692",
           "#B6E880",
           "#FF97FF",
           "#FECB52"
          ],
          "font": {
           "color": "#2a3f5f"
          },
          "geo": {
           "bgcolor": "white",
           "lakecolor": "white",
           "landcolor": "#E5ECF6",
           "showlakes": true,
           "showland": true,
           "subunitcolor": "white"
          },
          "hoverlabel": {
           "align": "left"
          },
          "hovermode": "closest",
          "mapbox": {
           "style": "light"
          },
          "paper_bgcolor": "white",
          "plot_bgcolor": "#E5ECF6",
          "polar": {
           "angularaxis": {
            "gridcolor": "white",
            "linecolor": "white",
            "ticks": ""
           },
           "bgcolor": "#E5ECF6",
           "radialaxis": {
            "gridcolor": "white",
            "linecolor": "white",
            "ticks": ""
           }
          },
          "scene": {
           "xaxis": {
            "backgroundcolor": "#E5ECF6",
            "gridcolor": "white",
            "gridwidth": 2,
            "linecolor": "white",
            "showbackground": true,
            "ticks": "",
            "zerolinecolor": "white"
           },
           "yaxis": {
            "backgroundcolor": "#E5ECF6",
            "gridcolor": "white",
            "gridwidth": 2,
            "linecolor": "white",
            "showbackground": true,
            "ticks": "",
            "zerolinecolor": "white"
           },
           "zaxis": {
            "backgroundcolor": "#E5ECF6",
            "gridcolor": "white",
            "gridwidth": 2,
            "linecolor": "white",
            "showbackground": true,
            "ticks": "",
            "zerolinecolor": "white"
           }
          },
          "shapedefaults": {
           "line": {
            "color": "#2a3f5f"
           }
          },
          "ternary": {
           "aaxis": {
            "gridcolor": "white",
            "linecolor": "white",
            "ticks": ""
           },
           "baxis": {
            "gridcolor": "white",
            "linecolor": "white",
            "ticks": ""
           },
           "bgcolor": "#E5ECF6",
           "caxis": {
            "gridcolor": "white",
            "linecolor": "white",
            "ticks": ""
           }
          },
          "title": {
           "x": 0.05
          },
          "xaxis": {
           "automargin": true,
           "gridcolor": "white",
           "linecolor": "white",
           "ticks": "",
           "title": {
            "standoff": 15
           },
           "zerolinecolor": "white",
           "zerolinewidth": 2
          },
          "yaxis": {
           "automargin": true,
           "gridcolor": "white",
           "linecolor": "white",
           "ticks": "",
           "title": {
            "standoff": 15
           },
           "zerolinecolor": "white",
           "zerolinewidth": 2
          }
         }
        },
        "xaxis": {
         "anchor": "y",
         "constrain": "domain",
         "domain": [
          0,
          1
         ],
         "scaleanchor": "y"
        },
        "yaxis": {
         "anchor": "x",
         "autorange": "reversed",
         "constrain": "domain",
         "domain": [
          0,
          1
         ]
        }
       }
      },
      "text/html": [
       "<div>                            <div id=\"5cf1748a-0be7-4ff4-8b51-5d0ff07c8e43\" class=\"plotly-graph-div\" style=\"height:525px; width:100%;\"></div>            <script type=\"text/javascript\">                require([\"plotly\"], function(Plotly) {                    window.PLOTLYENV=window.PLOTLYENV || {};                                    if (document.getElementById(\"5cf1748a-0be7-4ff4-8b51-5d0ff07c8e43\")) {                    Plotly.newPlot(                        \"5cf1748a-0be7-4ff4-8b51-5d0ff07c8e43\",                        [{\"coloraxis\":\"coloraxis\",\"hovertemplate\":\"x: %{x}<br>y: %{y}<br>color: %{z}<extra></extra>\",\"name\":\"0\",\"type\":\"heatmap\",\"x\":[\"last_price\",\"total_area\",\"rooms\",\"floors_total\",\"living_area\",\"ceiling_height\",\"floor\",\"kitchen_area\",\"cityCenters_nearest\",\"days_exposition\"],\"xaxis\":\"x\",\"y\":[\"last_price\",\"total_area\",\"rooms\",\"floors_total\",\"living_area\",\"ceiling_height\",\"floor\",\"kitchen_area\",\"cityCenters_nearest\",\"days_exposition\"],\"yaxis\":\"y\",\"z\":[[1.0,0.8052635130311923,0.5004212138821903,0.18675880127798397,0.6669632829876415,0.27793361600195216,0.11690276492161114,0.44107282784055685,-0.2926628100411191,0.0738864344522359],[0.8052635130311923,1.0,0.790391431897474,0.06656260081569214,0.916716646908904,0.17837452439383372,0.018541938892525103,0.33943286549087975,-0.1314666122751045,0.10519774390870187],[0.5004212138821903,0.790391431897474,1.0,-0.21335078225008508,0.8895877655661354,-0.06425979536215752,-0.13716542223794076,-0.021055523042287874,-0.08498132274805524,0.07316124183933422],[0.18675880127798397,0.06656260081569214,-0.21335078225008508,1.0,-0.1100490690188281,0.2790300765450776,0.4848265098485901,0.3691065319586889,0.23631825804686937,0.012407631513621573],[0.6669632829876415,0.916716646908904,0.8895877655661354,-0.1100490690188281,1.0,0.054734908179116276,-0.07855199618348,0.10117789350287307,-0.12796759382706874,0.09143752284101327],[0.27793361600195216,0.17837452439383372,-0.06425979536215752,0.2790300765450776,0.054734908179116276,1.0,0.1288843513748461,0.3319258948905686,-0.16576122744180505,0.02685572469431374],[0.11690276492161114,0.018541938892525103,-0.13716542223794076,0.4848265098485901,-0.07855199618348,0.1288843513748461,1.0,0.18918448200049431,0.1387175371531146,-0.023368632563353448],[0.44107282784055685,0.33943286549087975,-0.021055523042287874,0.3691065319586889,0.10117789350287307,0.3319258948905686,0.18918448200049431,1.0,-0.053689620621342034,0.03546277394387301],[-0.2926628100411191,-0.1314666122751045,-0.08498132274805524,0.23631825804686937,-0.12796759382706874,-0.16576122744180505,0.1387175371531146,-0.053689620621342034,1.0,-0.03311071827776455],[0.0738864344522359,0.10519774390870187,0.07316124183933422,0.012407631513621573,0.09143752284101327,0.02685572469431374,-0.023368632563353448,0.03546277394387301,-0.03311071827776455,1.0]]}],                        {\"coloraxis\":{\"colorscale\":[[0.0,\"#440154\"],[0.1111111111111111,\"#482878\"],[0.2222222222222222,\"#3e4989\"],[0.3333333333333333,\"#31688e\"],[0.4444444444444444,\"#26828e\"],[0.5555555555555556,\"#1f9e89\"],[0.6666666666666666,\"#35b779\"],[0.7777777777777778,\"#6ece58\"],[0.8888888888888888,\"#b5de2b\"],[1.0,\"#fde725\"]]},\"margin\":{\"t\":60},\"template\":{\"data\":{\"bar\":[{\"error_x\":{\"color\":\"#2a3f5f\"},\"error_y\":{\"color\":\"#2a3f5f\"},\"marker\":{\"line\":{\"color\":\"#E5ECF6\",\"width\":0.5},\"pattern\":{\"fillmode\":\"overlay\",\"size\":10,\"solidity\":0.2}},\"type\":\"bar\"}],\"barpolar\":[{\"marker\":{\"line\":{\"color\":\"#E5ECF6\",\"width\":0.5},\"pattern\":{\"fillmode\":\"overlay\",\"size\":10,\"solidity\":0.2}},\"type\":\"barpolar\"}],\"carpet\":[{\"aaxis\":{\"endlinecolor\":\"#2a3f5f\",\"gridcolor\":\"white\",\"linecolor\":\"white\",\"minorgridcolor\":\"white\",\"startlinecolor\":\"#2a3f5f\"},\"baxis\":{\"endlinecolor\":\"#2a3f5f\",\"gridcolor\":\"white\",\"linecolor\":\"white\",\"minorgridcolor\":\"white\",\"startlinecolor\":\"#2a3f5f\"},\"type\":\"carpet\"}],\"choropleth\":[{\"colorbar\":{\"outlinewidth\":0,\"ticks\":\"\"},\"type\":\"choropleth\"}],\"contour\":[{\"colorbar\":{\"outlinewidth\":0,\"ticks\":\"\"},\"colorscale\":[[0.0,\"#0d0887\"],[0.1111111111111111,\"#46039f\"],[0.2222222222222222,\"#7201a8\"],[0.3333333333333333,\"#9c179e\"],[0.4444444444444444,\"#bd3786\"],[0.5555555555555556,\"#d8576b\"],[0.6666666666666666,\"#ed7953\"],[0.7777777777777778,\"#fb9f3a\"],[0.8888888888888888,\"#fdca26\"],[1.0,\"#f0f921\"]],\"type\":\"contour\"}],\"contourcarpet\":[{\"colorbar\":{\"outlinewidth\":0,\"ticks\":\"\"},\"type\":\"contourcarpet\"}],\"heatmap\":[{\"colorbar\":{\"outlinewidth\":0,\"ticks\":\"\"},\"colorscale\":[[0.0,\"#0d0887\"],[0.1111111111111111,\"#46039f\"],[0.2222222222222222,\"#7201a8\"],[0.3333333333333333,\"#9c179e\"],[0.4444444444444444,\"#bd3786\"],[0.5555555555555556,\"#d8576b\"],[0.6666666666666666,\"#ed7953\"],[0.7777777777777778,\"#fb9f3a\"],[0.8888888888888888,\"#fdca26\"],[1.0,\"#f0f921\"]],\"type\":\"heatmap\"}],\"heatmapgl\":[{\"colorbar\":{\"outlinewidth\":0,\"ticks\":\"\"},\"colorscale\":[[0.0,\"#0d0887\"],[0.1111111111111111,\"#46039f\"],[0.2222222222222222,\"#7201a8\"],[0.3333333333333333,\"#9c179e\"],[0.4444444444444444,\"#bd3786\"],[0.5555555555555556,\"#d8576b\"],[0.6666666666666666,\"#ed7953\"],[0.7777777777777778,\"#fb9f3a\"],[0.8888888888888888,\"#fdca26\"],[1.0,\"#f0f921\"]],\"type\":\"heatmapgl\"}],\"histogram\":[{\"marker\":{\"pattern\":{\"fillmode\":\"overlay\",\"size\":10,\"solidity\":0.2}},\"type\":\"histogram\"}],\"histogram2d\":[{\"colorbar\":{\"outlinewidth\":0,\"ticks\":\"\"},\"colorscale\":[[0.0,\"#0d0887\"],[0.1111111111111111,\"#46039f\"],[0.2222222222222222,\"#7201a8\"],[0.3333333333333333,\"#9c179e\"],[0.4444444444444444,\"#bd3786\"],[0.5555555555555556,\"#d8576b\"],[0.6666666666666666,\"#ed7953\"],[0.7777777777777778,\"#fb9f3a\"],[0.8888888888888888,\"#fdca26\"],[1.0,\"#f0f921\"]],\"type\":\"histogram2d\"}],\"histogram2dcontour\":[{\"colorbar\":{\"outlinewidth\":0,\"ticks\":\"\"},\"colorscale\":[[0.0,\"#0d0887\"],[0.1111111111111111,\"#46039f\"],[0.2222222222222222,\"#7201a8\"],[0.3333333333333333,\"#9c179e\"],[0.4444444444444444,\"#bd3786\"],[0.5555555555555556,\"#d8576b\"],[0.6666666666666666,\"#ed7953\"],[0.7777777777777778,\"#fb9f3a\"],[0.8888888888888888,\"#fdca26\"],[1.0,\"#f0f921\"]],\"type\":\"histogram2dcontour\"}],\"mesh3d\":[{\"colorbar\":{\"outlinewidth\":0,\"ticks\":\"\"},\"type\":\"mesh3d\"}],\"parcoords\":[{\"line\":{\"colorbar\":{\"outlinewidth\":0,\"ticks\":\"\"}},\"type\":\"parcoords\"}],\"pie\":[{\"automargin\":true,\"type\":\"pie\"}],\"scatter\":[{\"marker\":{\"colorbar\":{\"outlinewidth\":0,\"ticks\":\"\"}},\"type\":\"scatter\"}],\"scatter3d\":[{\"line\":{\"colorbar\":{\"outlinewidth\":0,\"ticks\":\"\"}},\"marker\":{\"colorbar\":{\"outlinewidth\":0,\"ticks\":\"\"}},\"type\":\"scatter3d\"}],\"scattercarpet\":[{\"marker\":{\"colorbar\":{\"outlinewidth\":0,\"ticks\":\"\"}},\"type\":\"scattercarpet\"}],\"scattergeo\":[{\"marker\":{\"colorbar\":{\"outlinewidth\":0,\"ticks\":\"\"}},\"type\":\"scattergeo\"}],\"scattergl\":[{\"marker\":{\"colorbar\":{\"outlinewidth\":0,\"ticks\":\"\"}},\"type\":\"scattergl\"}],\"scattermapbox\":[{\"marker\":{\"colorbar\":{\"outlinewidth\":0,\"ticks\":\"\"}},\"type\":\"scattermapbox\"}],\"scatterpolar\":[{\"marker\":{\"colorbar\":{\"outlinewidth\":0,\"ticks\":\"\"}},\"type\":\"scatterpolar\"}],\"scatterpolargl\":[{\"marker\":{\"colorbar\":{\"outlinewidth\":0,\"ticks\":\"\"}},\"type\":\"scatterpolargl\"}],\"scatterternary\":[{\"marker\":{\"colorbar\":{\"outlinewidth\":0,\"ticks\":\"\"}},\"type\":\"scatterternary\"}],\"surface\":[{\"colorbar\":{\"outlinewidth\":0,\"ticks\":\"\"},\"colorscale\":[[0.0,\"#0d0887\"],[0.1111111111111111,\"#46039f\"],[0.2222222222222222,\"#7201a8\"],[0.3333333333333333,\"#9c179e\"],[0.4444444444444444,\"#bd3786\"],[0.5555555555555556,\"#d8576b\"],[0.6666666666666666,\"#ed7953\"],[0.7777777777777778,\"#fb9f3a\"],[0.8888888888888888,\"#fdca26\"],[1.0,\"#f0f921\"]],\"type\":\"surface\"}],\"table\":[{\"cells\":{\"fill\":{\"color\":\"#EBF0F8\"},\"line\":{\"color\":\"white\"}},\"header\":{\"fill\":{\"color\":\"#C8D4E3\"},\"line\":{\"color\":\"white\"}},\"type\":\"table\"}]},\"layout\":{\"annotationdefaults\":{\"arrowcolor\":\"#2a3f5f\",\"arrowhead\":0,\"arrowwidth\":1},\"autotypenumbers\":\"strict\",\"coloraxis\":{\"colorbar\":{\"outlinewidth\":0,\"ticks\":\"\"}},\"colorscale\":{\"diverging\":[[0,\"#8e0152\"],[0.1,\"#c51b7d\"],[0.2,\"#de77ae\"],[0.3,\"#f1b6da\"],[0.4,\"#fde0ef\"],[0.5,\"#f7f7f7\"],[0.6,\"#e6f5d0\"],[0.7,\"#b8e186\"],[0.8,\"#7fbc41\"],[0.9,\"#4d9221\"],[1,\"#276419\"]],\"sequential\":[[0.0,\"#0d0887\"],[0.1111111111111111,\"#46039f\"],[0.2222222222222222,\"#7201a8\"],[0.3333333333333333,\"#9c179e\"],[0.4444444444444444,\"#bd3786\"],[0.5555555555555556,\"#d8576b\"],[0.6666666666666666,\"#ed7953\"],[0.7777777777777778,\"#fb9f3a\"],[0.8888888888888888,\"#fdca26\"],[1.0,\"#f0f921\"]],\"sequentialminus\":[[0.0,\"#0d0887\"],[0.1111111111111111,\"#46039f\"],[0.2222222222222222,\"#7201a8\"],[0.3333333333333333,\"#9c179e\"],[0.4444444444444444,\"#bd3786\"],[0.5555555555555556,\"#d8576b\"],[0.6666666666666666,\"#ed7953\"],[0.7777777777777778,\"#fb9f3a\"],[0.8888888888888888,\"#fdca26\"],[1.0,\"#f0f921\"]]},\"colorway\":[\"#636efa\",\"#EF553B\",\"#00cc96\",\"#ab63fa\",\"#FFA15A\",\"#19d3f3\",\"#FF6692\",\"#B6E880\",\"#FF97FF\",\"#FECB52\"],\"font\":{\"color\":\"#2a3f5f\"},\"geo\":{\"bgcolor\":\"white\",\"lakecolor\":\"white\",\"landcolor\":\"#E5ECF6\",\"showlakes\":true,\"showland\":true,\"subunitcolor\":\"white\"},\"hoverlabel\":{\"align\":\"left\"},\"hovermode\":\"closest\",\"mapbox\":{\"style\":\"light\"},\"paper_bgcolor\":\"white\",\"plot_bgcolor\":\"#E5ECF6\",\"polar\":{\"angularaxis\":{\"gridcolor\":\"white\",\"linecolor\":\"white\",\"ticks\":\"\"},\"bgcolor\":\"#E5ECF6\",\"radialaxis\":{\"gridcolor\":\"white\",\"linecolor\":\"white\",\"ticks\":\"\"}},\"scene\":{\"xaxis\":{\"backgroundcolor\":\"#E5ECF6\",\"gridcolor\":\"white\",\"gridwidth\":2,\"linecolor\":\"white\",\"showbackground\":true,\"ticks\":\"\",\"zerolinecolor\":\"white\"},\"yaxis\":{\"backgroundcolor\":\"#E5ECF6\",\"gridcolor\":\"white\",\"gridwidth\":2,\"linecolor\":\"white\",\"showbackground\":true,\"ticks\":\"\",\"zerolinecolor\":\"white\"},\"zaxis\":{\"backgroundcolor\":\"#E5ECF6\",\"gridcolor\":\"white\",\"gridwidth\":2,\"linecolor\":\"white\",\"showbackground\":true,\"ticks\":\"\",\"zerolinecolor\":\"white\"}},\"shapedefaults\":{\"line\":{\"color\":\"#2a3f5f\"}},\"ternary\":{\"aaxis\":{\"gridcolor\":\"white\",\"linecolor\":\"white\",\"ticks\":\"\"},\"baxis\":{\"gridcolor\":\"white\",\"linecolor\":\"white\",\"ticks\":\"\"},\"bgcolor\":\"#E5ECF6\",\"caxis\":{\"gridcolor\":\"white\",\"linecolor\":\"white\",\"ticks\":\"\"}},\"title\":{\"x\":0.05},\"xaxis\":{\"automargin\":true,\"gridcolor\":\"white\",\"linecolor\":\"white\",\"ticks\":\"\",\"title\":{\"standoff\":15},\"zerolinecolor\":\"white\",\"zerolinewidth\":2},\"yaxis\":{\"automargin\":true,\"gridcolor\":\"white\",\"linecolor\":\"white\",\"ticks\":\"\",\"title\":{\"standoff\":15},\"zerolinecolor\":\"white\",\"zerolinewidth\":2}}},\"xaxis\":{\"anchor\":\"y\",\"constrain\":\"domain\",\"domain\":[0.0,1.0],\"scaleanchor\":\"y\"},\"yaxis\":{\"anchor\":\"x\",\"autorange\":\"reversed\",\"constrain\":\"domain\",\"domain\":[0.0,1.0]}},                        {\"responsive\": true}                    ).then(function(){\n",
       "                            \n",
       "var gd = document.getElementById('5cf1748a-0be7-4ff4-8b51-5d0ff07c8e43');\n",
       "var x = new MutationObserver(function (mutations, observer) {{\n",
       "        var display = window.getComputedStyle(gd).display;\n",
       "        if (!display || display === 'none') {{\n",
       "            console.log([gd, 'removed!']);\n",
       "            Plotly.purge(gd);\n",
       "            observer.disconnect();\n",
       "        }}\n",
       "}});\n",
       "\n",
       "// Listen for the removal of the full notebook cells\n",
       "var notebookContainer = gd.closest('#notebook-container');\n",
       "if (notebookContainer) {{\n",
       "    x.observe(notebookContainer, {childList: true});\n",
       "}}\n",
       "\n",
       "// Listen for the clearing of the current output cell\n",
       "var outputEl = gd.closest('.output');\n",
       "if (outputEl) {{\n",
       "    x.observe(outputEl, {childList: true});\n",
       "}}\n",
       "\n",
       "                        })                };                });            </script>        </div>"
      ]
     },
     "metadata": {},
     "output_type": "display_data"
    }
   ],
   "source": [
    "px.imshow(correlations, color_continuous_scale=px.colors.sequential.Viridis)"
   ]
  },
  {
   "cell_type": "markdown",
   "id": "3cbb3494",
   "metadata": {},
   "source": [
    "<h4>Общие выводы по таблице с недвижимостью:<h4>\n",
    "<ol>\n",
    "<li>Площадь всех квартир, представленных в таблице, находится в диапазоне от 12 кв.м до 12 кв. м.\n",
    "В среднем общая площадь продаваемых квартир - 52 кв.м, медиана = 48 кв. м.  \n",
    "Кварир с большой площадью продается меньше, чем с маленькой или средней. \n",
    "<li>Самая популярная категория выставленных квартир - однокомнатные(~37%), далее следуют двухкомнатные (~36%). \n",
    "Меньше всего на рынке 6-комнтных квартир - всего 2 штуки. \n",
    "<li>Цена за кв. м. колеблется от 15345 до 387096. Средняя цена - 105042.\n",
    " <li>Больше всего на стоимость квартиры влияет ее площадь(r = 0.805), а также кол-во комнат (r = 0.5),                              размер жилой площади (r = 0.67),площадь кухни (r = 0.44).Между ценой на квартиру и расстоянием до центра есть отрицательная корреляция: чем выше цена, тем ближе к центру и наоборот.</ol>\n"
   ]
  }
 ],
 "metadata": {
  "kernelspec": {
   "display_name": "Python 3",
   "language": "python",
   "name": "python3"
  },
  "language_info": {
   "codemirror_mode": {
    "name": "ipython",
    "version": 3
   },
   "file_extension": ".py",
   "mimetype": "text/x-python",
   "name": "python",
   "nbconvert_exporter": "python",
   "pygments_lexer": "ipython3",
   "version": "3.9.5"
  }
 },
 "nbformat": 4,
 "nbformat_minor": 5
}
